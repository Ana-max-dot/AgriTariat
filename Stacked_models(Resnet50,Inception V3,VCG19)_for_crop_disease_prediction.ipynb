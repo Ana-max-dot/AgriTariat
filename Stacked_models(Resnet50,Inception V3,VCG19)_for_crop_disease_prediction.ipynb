{
 "cells": [
  {
   "cell_type": "code",
   "execution_count": 1,
   "id": "d1fa7080-cd28-4d1b-a299-a94031f8f4d4",
   "metadata": {},
   "outputs": [],
   "source": [
    "import os\n",
    "import cv2\n",
    "import pandas as pd\n",
    "import tensorflow as tf\n",
    "import numpy as np\n",
    "import matplotlib.pyplot as plt\n",
    "import json\n",
    "from tensorflow.keras.preprocessing.image import ImageDataGenerator\n",
    "from keras.models import Sequential\n",
    "from keras.models import Model\n",
    "from keras.layers import Input\n",
    "from tensorflow.keras.optimizers import Adam\n",
    "from tensorflow.keras.layers import Activation,GlobalAveragePooling2D, Dense, BatchNormalization, Dropout, Flatten, Conv2D, MaxPooling2D\n",
    "from tensorflow.keras.optimizers import SGD"
   ]
  },
  {
   "cell_type": "code",
   "execution_count": 4,
   "id": "d7f0d636-2569-4f8c-ae23-89a83f935cee",
   "metadata": {},
   "outputs": [],
   "source": [
    "df = pd.read_csv(\"train (1).csv\")"
   ]
  },
  {
   "cell_type": "code",
   "execution_count": 5,
   "id": "02bee7ae-a2cc-4d2b-b39c-6be31451f2b2",
   "metadata": {},
   "outputs": [
    {
     "data": {
      "text/html": [
       "<div>\n",
       "<style scoped>\n",
       "    .dataframe tbody tr th:only-of-type {\n",
       "        vertical-align: middle;\n",
       "    }\n",
       "\n",
       "    .dataframe tbody tr th {\n",
       "        vertical-align: top;\n",
       "    }\n",
       "\n",
       "    .dataframe thead th {\n",
       "        text-align: right;\n",
       "    }\n",
       "</style>\n",
       "<table border=\"1\" class=\"dataframe\">\n",
       "  <thead>\n",
       "    <tr style=\"text-align: right;\">\n",
       "      <th></th>\n",
       "      <th>image_id</th>\n",
       "      <th>label</th>\n",
       "    </tr>\n",
       "  </thead>\n",
       "  <tbody>\n",
       "    <tr>\n",
       "      <th>0</th>\n",
       "      <td>1000015157.jpg</td>\n",
       "      <td>0</td>\n",
       "    </tr>\n",
       "    <tr>\n",
       "      <th>1</th>\n",
       "      <td>1000201771.jpg</td>\n",
       "      <td>3</td>\n",
       "    </tr>\n",
       "    <tr>\n",
       "      <th>2</th>\n",
       "      <td>100042118.jpg</td>\n",
       "      <td>1</td>\n",
       "    </tr>\n",
       "    <tr>\n",
       "      <th>3</th>\n",
       "      <td>1000723321.jpg</td>\n",
       "      <td>1</td>\n",
       "    </tr>\n",
       "    <tr>\n",
       "      <th>4</th>\n",
       "      <td>1000812911.jpg</td>\n",
       "      <td>3</td>\n",
       "    </tr>\n",
       "    <tr>\n",
       "      <th>...</th>\n",
       "      <td>...</td>\n",
       "      <td>...</td>\n",
       "    </tr>\n",
       "    <tr>\n",
       "      <th>21392</th>\n",
       "      <td>999068805.jpg</td>\n",
       "      <td>3</td>\n",
       "    </tr>\n",
       "    <tr>\n",
       "      <th>21393</th>\n",
       "      <td>999329392.jpg</td>\n",
       "      <td>3</td>\n",
       "    </tr>\n",
       "    <tr>\n",
       "      <th>21394</th>\n",
       "      <td>999474432.jpg</td>\n",
       "      <td>1</td>\n",
       "    </tr>\n",
       "    <tr>\n",
       "      <th>21395</th>\n",
       "      <td>999616605.jpg</td>\n",
       "      <td>4</td>\n",
       "    </tr>\n",
       "    <tr>\n",
       "      <th>21396</th>\n",
       "      <td>999998473.jpg</td>\n",
       "      <td>4</td>\n",
       "    </tr>\n",
       "  </tbody>\n",
       "</table>\n",
       "<p>21397 rows × 2 columns</p>\n",
       "</div>"
      ],
      "text/plain": [
       "             image_id  label\n",
       "0      1000015157.jpg      0\n",
       "1      1000201771.jpg      3\n",
       "2       100042118.jpg      1\n",
       "3      1000723321.jpg      1\n",
       "4      1000812911.jpg      3\n",
       "...               ...    ...\n",
       "21392   999068805.jpg      3\n",
       "21393   999329392.jpg      3\n",
       "21394   999474432.jpg      1\n",
       "21395   999616605.jpg      4\n",
       "21396   999998473.jpg      4\n",
       "\n",
       "[21397 rows x 2 columns]"
      ]
     },
     "execution_count": 5,
     "metadata": {},
     "output_type": "execute_result"
    }
   ],
   "source": [
    "df"
   ]
  },
  {
   "cell_type": "code",
   "execution_count": 6,
   "id": "e04ed8ed-e33a-4fac-b964-38bbd7dd9615",
   "metadata": {},
   "outputs": [
    {
     "data": {
      "text/plain": [
       "{'0': 'Cassava Bacterial Blight (CBB)',\n",
       " '1': 'Cassava Brown Streak Disease (CBSD)',\n",
       " '2': 'Cassava Green Mottle (CGM)',\n",
       " '3': 'Cassava Mosaic Disease (CMD)',\n",
       " '4': 'Healthy'}"
      ]
     },
     "execution_count": 6,
     "metadata": {},
     "output_type": "execute_result"
    }
   ],
   "source": [
    "with open(\"label_num_to_disease_map.json\", \"r\") as file:\n",
    "    label_name = json.load(file)\n",
    "label_name"
   ]
  },
  {
   "cell_type": "code",
   "execution_count": 8,
   "id": "1d7b85d4-6128-4074-a8cc-0fa56cc294a1",
   "metadata": {},
   "outputs": [],
   "source": [
    "image_path = \"Dataset_plant\"\n",
    "image_list = os.listdir(image_path)"
   ]
  },
  {
   "cell_type": "code",
   "execution_count": 9,
   "id": "d2667efa-bd57-4f8d-a0d9-7e9869bc1f4e",
   "metadata": {},
   "outputs": [],
   "source": [
    "# Matching labels with images\n",
    "df = df[df[\"image_id\"].isin(image_list)]\n",
    "df.reset_index(drop=True, inplace=True)"
   ]
  },
  {
   "cell_type": "code",
   "execution_count": 10,
   "id": "d737abaa-1040-4f19-a91e-f41a8a627481",
   "metadata": {},
   "outputs": [
    {
     "name": "stderr",
     "output_type": "stream",
     "text": [
      "C:\\Users\\ranan\\AppData\\Local\\Temp\\ipykernel_580\\3253080392.py:2: SettingWithCopyWarning: \n",
      "A value is trying to be set on a copy of a slice from a DataFrame.\n",
      "Try using .loc[row_indexer,col_indexer] = value instead\n",
      "\n",
      "See the caveats in the documentation: https://pandas.pydata.org/pandas-docs/stable/user_guide/indexing.html#returning-a-view-versus-a-copy\n",
      "  df[\"image_path\"] = df[\"image_id\"].apply(lambda x: str(path_name+x))\n",
      "C:\\Users\\ranan\\AppData\\Local\\Temp\\ipykernel_580\\3253080392.py:3: SettingWithCopyWarning: \n",
      "A value is trying to be set on a copy of a slice from a DataFrame.\n",
      "Try using .loc[row_indexer,col_indexer] = value instead\n",
      "\n",
      "See the caveats in the documentation: https://pandas.pydata.org/pandas-docs/stable/user_guide/indexing.html#returning-a-view-versus-a-copy\n",
      "  df[\"label_name\"] = df[\"label\"].apply(lambda x: label_name.get(str(x), \"Unknown\"))\n"
     ]
    },
    {
     "data": {
      "text/html": [
       "<div>\n",
       "<style scoped>\n",
       "    .dataframe tbody tr th:only-of-type {\n",
       "        vertical-align: middle;\n",
       "    }\n",
       "\n",
       "    .dataframe tbody tr th {\n",
       "        vertical-align: top;\n",
       "    }\n",
       "\n",
       "    .dataframe thead th {\n",
       "        text-align: right;\n",
       "    }\n",
       "</style>\n",
       "<table border=\"1\" class=\"dataframe\">\n",
       "  <thead>\n",
       "    <tr style=\"text-align: right;\">\n",
       "      <th></th>\n",
       "      <th>image_id</th>\n",
       "      <th>label</th>\n",
       "      <th>image_path</th>\n",
       "      <th>label_name</th>\n",
       "    </tr>\n",
       "  </thead>\n",
       "  <tbody>\n",
       "    <tr>\n",
       "      <th>0</th>\n",
       "      <td>760745341.jpg</td>\n",
       "      <td>2</td>\n",
       "      <td>Dataset_plant760745341.jpg</td>\n",
       "      <td>Cassava Green Mottle (CGM)</td>\n",
       "    </tr>\n",
       "    <tr>\n",
       "      <th>1</th>\n",
       "      <td>76080816.jpg</td>\n",
       "      <td>3</td>\n",
       "      <td>Dataset_plant76080816.jpg</td>\n",
       "      <td>Cassava Mosaic Disease (CMD)</td>\n",
       "    </tr>\n",
       "    <tr>\n",
       "      <th>2</th>\n",
       "      <td>760863006.jpg</td>\n",
       "      <td>2</td>\n",
       "      <td>Dataset_plant760863006.jpg</td>\n",
       "      <td>Cassava Green Mottle (CGM)</td>\n",
       "    </tr>\n",
       "    <tr>\n",
       "      <th>3</th>\n",
       "      <td>760916412.jpg</td>\n",
       "      <td>2</td>\n",
       "      <td>Dataset_plant760916412.jpg</td>\n",
       "      <td>Cassava Green Mottle (CGM)</td>\n",
       "    </tr>\n",
       "    <tr>\n",
       "      <th>4</th>\n",
       "      <td>761160675.jpg</td>\n",
       "      <td>3</td>\n",
       "      <td>Dataset_plant761160675.jpg</td>\n",
       "      <td>Cassava Mosaic Disease (CMD)</td>\n",
       "    </tr>\n",
       "  </tbody>\n",
       "</table>\n",
       "</div>"
      ],
      "text/plain": [
       "        image_id  label                  image_path  \\\n",
       "0  760745341.jpg      2  Dataset_plant760745341.jpg   \n",
       "1   76080816.jpg      3   Dataset_plant76080816.jpg   \n",
       "2  760863006.jpg      2  Dataset_plant760863006.jpg   \n",
       "3  760916412.jpg      2  Dataset_plant760916412.jpg   \n",
       "4  761160675.jpg      3  Dataset_plant761160675.jpg   \n",
       "\n",
       "                     label_name  \n",
       "0    Cassava Green Mottle (CGM)  \n",
       "1  Cassava Mosaic Disease (CMD)  \n",
       "2    Cassava Green Mottle (CGM)  \n",
       "3    Cassava Green Mottle (CGM)  \n",
       "4  Cassava Mosaic Disease (CMD)  "
      ]
     },
     "execution_count": 10,
     "metadata": {},
     "output_type": "execute_result"
    }
   ],
   "source": [
    "path_name = \"Dataset_plant\"\n",
    "df[\"image_path\"] = df[\"image_id\"].apply(lambda x: str(path_name+x))\n",
    "df[\"label_name\"] = df[\"label\"].apply(lambda x: label_name.get(str(x), \"Unknown\"))\n",
    "df.head()"
   ]
  },
  {
   "cell_type": "code",
   "execution_count": 11,
   "id": "8e94268a-4082-41dc-8a5d-9f6767678924",
   "metadata": {},
   "outputs": [],
   "source": [
    "from sklearn.model_selection import train_test_split\n",
    "\n",
    "# train and test\n",
    "train_df, test_df = train_test_split(df, test_size=0.2, random_state=42)"
   ]
  },
  {
   "cell_type": "code",
   "execution_count": 12,
   "id": "97bacbf1-cb0e-4a8b-ac45-b7654ebefa4f",
   "metadata": {},
   "outputs": [],
   "source": [
    "import tensorflow as tf\n",
    "from tensorflow.keras import layers, Model\n",
    "from tensorflow.keras.applications import ResNet50, VGG19, InceptionV3\n",
    "from tensorflow.keras.preprocessing.image import ImageDataGenerator\n",
    "from tensorflow.keras.layers import Dense, GlobalAveragePooling2D, Concatenate, Input\n"
   ]
  },
  {
   "cell_type": "code",
   "execution_count": 13,
   "id": "48ca92a2-dc74-418f-9fec-13865f78c680",
   "metadata": {},
   "outputs": [],
   "source": [
    "def build_model(input_shape=(224, 224, 3), num_classes=5):\n",
    "    # ResNet50 model\n",
    "    resnet50_base = ResNet50(weights='imagenet', include_top=False, input_shape=input_shape)\n",
    "    x_resnet = resnet50_base.output\n",
    "    x_resnet = GlobalAveragePooling2D()(x_resnet)\n",
    "\n",
    "    # VGG19 model\n",
    "    vgg19_base = VGG19(weights='imagenet', include_top=False, input_shape=input_shape)\n",
    "    x_vgg = vgg19_base.output\n",
    "    x_vgg = GlobalAveragePooling2D()(x_vgg)\n",
    "\n",
    "    # InceptionV3 model\n",
    "    inception_input_shape = (299, 299, 3)\n",
    "    inceptionv3_base = InceptionV3(weights='imagenet', include_top=False, input_shape=inception_input_shape)\n",
    "    x_inception = inceptionv3_base.output\n",
    "    x_inception = GlobalAveragePooling2D()(x_inception)\n",
    "\n",
    "    # Concatenate the outputs\n",
    "    combined = Concatenate()([x_resnet, x_vgg, x_inception])\n",
    "\n",
    "    # Add a dense layer and the final output layer\n",
    "    x = Dense(1024, activation='relu')(combined)\n",
    "    x = Dense(512, activation='relu')(x)\n",
    "    output = Dense(num_classes, activation='softmax')(x)\n",
    "\n",
    "    # Create the model\n",
    "    model = Model(inputs=[resnet50_base.input, vgg19_base.input, inceptionv3_base.input], outputs=output)\n",
    "    \n",
    "    return model\n"
   ]
  },
  {
   "cell_type": "code",
   "execution_count": 14,
   "id": "5af973b8-965a-45b8-baa2-d2c765090721",
   "metadata": {},
   "outputs": [],
   "source": [
    "def generate_data(df, batch_size):\n",
    "    while True:\n",
    "        for start in range(0, len(df), batch_size):\n",
    "            x_batch_resnet = []\n",
    "            x_batch_vgg = []\n",
    "            x_batch_inception = []\n",
    "            y_batch = []\n",
    "            end = min(start + batch_size, len(df))\n",
    "            df_batch = df[start:end]\n",
    "            for _, row in df_batch.iterrows():\n",
    "                img_path = row['image_path']\n",
    "                \n",
    "                img_resnet = image.load_img(img_path, target_size=(224, 224))\n",
    "                img_resnet = image.img_to_array(img_resnet)\n",
    "                img_resnet = np.expand_dims(img_resnet, axis=0)\n",
    "                img_resnet = resnet_preprocess(img_resnet)\n",
    "\n",
    "                img_vgg = image.load_img(img_path, target_size=(224, 224))\n",
    "                img_vgg = image.img_to_array(img_vgg)\n",
    "                img_vgg = np.expand_dims(img_vgg, axis=0)\n",
    "                img_vgg = vgg_preprocess(img_vgg)\n",
    "\n",
    "                img_inception = image.load_img(img_path, target_size=(299, 299))\n",
    "                img_inception = image.img_to_array(img_inception)\n",
    "                img_inception = np.expand_dims(img_inception, axis=0)\n",
    "                img_inception = inception_preprocess(img_inception)\n",
    "                \n",
    "                x_batch_resnet.append(img_resnet[0])\n",
    "                x_batch_vgg.append(img_vgg[0])\n",
    "                x_batch_inception.append(img_inception[0])\n",
    "                \n",
    "                y_batch.append(row['label'])\n",
    "\n",
    "            x_batch_resnet = np.array(x_batch_resnet)\n",
    "            x_batch_vgg = np.array(x_batch_vgg)\n",
    "            x_batch_inception = np.array(x_batch_inception)\n",
    "            y_batch = tf.keras.utils.to_categorical(np.array(y_batch), num_classes=len(classes))\n",
    "            \n",
    "            yield [x_batch_resnet, x_batch_vgg, x_batch_inception], y_batch\n"
   ]
  },
  {
   "cell_type": "code",
   "execution_count": 15,
   "id": "9504fee6-ecef-426d-8263-e80bddffa0d8",
   "metadata": {},
   "outputs": [
    {
     "name": "stdout",
     "output_type": "stream",
     "text": [
      "Downloading data from https://storage.googleapis.com/tensorflow/keras-applications/resnet/resnet50_weights_tf_dim_ordering_tf_kernels_notop.h5\n",
      "\u001b[1m94765736/94765736\u001b[0m \u001b[32m━━━━━━━━━━━━━━━━━━━━\u001b[0m\u001b[37m\u001b[0m \u001b[1m17s\u001b[0m 0us/step\n",
      "Downloading data from https://storage.googleapis.com/tensorflow/keras-applications/vgg19/vgg19_weights_tf_dim_ordering_tf_kernels_notop.h5\n",
      "\u001b[1m80134624/80134624\u001b[0m \u001b[32m━━━━━━━━━━━━━━━━━━━━\u001b[0m\u001b[37m\u001b[0m \u001b[1m16s\u001b[0m 0us/step\n",
      "Downloading data from https://storage.googleapis.com/tensorflow/keras-applications/inception_v3/inception_v3_weights_tf_dim_ordering_tf_kernels_notop.h5\n",
      "\u001b[1m87910968/87910968\u001b[0m \u001b[32m━━━━━━━━━━━━━━━━━━━━\u001b[0m\u001b[37m\u001b[0m \u001b[1m16s\u001b[0m 0us/step\n"
     ]
    }
   ],
   "source": [
    "stacked_model = build_model()\n",
    "stacked_model.compile(\n",
    "    optimizer=tf.keras.optimizers.SGD(learning_rate=0.0001),\n",
    "    loss='categorical_crossentropy',\n",
    "    metrics=[\"accuracy\"]\n",
    ")\n"
   ]
  },
  {
   "cell_type": "code",
   "execution_count": 16,
   "id": "1f9f3077-ac14-436a-a7ca-b72f11630086",
   "metadata": {},
   "outputs": [],
   "source": [
    "batch_size = 32\n",
    "\n",
    "train_generator = generate_data(train_df, batch_size)\n",
    "test_generator = generate_data(test_df, batch_size)\n",
    "\n",
    "nb_train_samples = len(train_df)\n",
    "nb_test_samples = len(test_df)\n"
   ]
  },
  {
   "cell_type": "code",
   "execution_count": 18,
   "id": "b8cbf2d4-7291-459b-9fa7-4855a444f446",
   "metadata": {},
   "outputs": [],
   "source": [
    "from tensorflow.keras.preprocessing import image\n"
   ]
  },
  {
   "cell_type": "code",
   "execution_count": null,
   "id": "9621c3b3-ef55-44cc-b28f-9ad27c9b9a12",
   "metadata": {},
   "outputs": [],
   "source": [
    "epochs = 20\n",
    "\n",
    "stacked_model.fit(\n",
    "    train_generator,\n",
    "    steps_per_epoch=nb_train_samples // batch_size,\n",
    "    validation_data=test_generator,\n",
    "    validation_steps=nb_test_samples // batch_size,\n",
    "    epochs=epochs\n",
    ")"
   ]
  },
  {
   "cell_type": "code",
   "execution_count": null,
   "id": "8b42e304-246e-4730-b470-e4160d372fd2",
   "metadata": {},
   "outputs": [],
   "source": []
  }
 ],
 "metadata": {
  "kernelspec": {
   "display_name": "Python 3 (ipykernel)",
   "language": "python",
   "name": "python3"
  },
  "language_info": {
   "codemirror_mode": {
    "name": "ipython",
    "version": 3
   },
   "file_extension": ".py",
   "mimetype": "text/x-python",
   "name": "python",
   "nbconvert_exporter": "python",
   "pygments_lexer": "ipython3",
   "version": "3.11.7"
  }
 },
 "nbformat": 4,
 "nbformat_minor": 5
}
